{
  "nbformat": 4,
  "nbformat_minor": 0,
  "metadata": {
    "colab": {
      "name": "기능개발(큐).ipynb",
      "provenance": [],
      "authorship_tag": "ABX9TyM7aJqy/6/XQlqDxJ5HKWJl",
      "include_colab_link": true
    },
    "kernelspec": {
      "name": "python3",
      "display_name": "Python 3"
    },
    "language_info": {
      "name": "python"
    }
  },
  "cells": [
    {
      "cell_type": "markdown",
      "metadata": {
        "id": "view-in-github",
        "colab_type": "text"
      },
      "source": [
        "<a href=\"https://colab.research.google.com/github/ji-hun-choi/algorithm-study/blob/main/1%EC%A3%BC%EC%B0%A8_Stack_Queue/%EA%B8%B0%EB%8A%A5%EA%B0%9C%EB%B0%9C(%ED%81%90).ipynb\" target=\"_parent\"><img src=\"https://colab.research.google.com/assets/colab-badge.svg\" alt=\"Open In Colab\"/></a>"
      ]
    },
    {
      "cell_type": "markdown",
      "source": [
        "# 프로그래머스 기능개발 문제"
      ],
      "metadata": {
        "id": "3ktjMHde0-bO"
      }
    },
    {
      "cell_type": "markdown",
      "source": [
        "## 문제설명"
      ],
      "metadata": {
        "id": "p2v137V50-dj"
      }
    },
    {
      "cell_type": "markdown",
      "source": [
        "- 프로그래머스 팀에서는 기능 개선 작업을 수행 중입니다. 각 기능은 진도가 100%일 때 서비스에 반영할 수 있습니다.\n",
        "\n",
        "- 또, 각 기능의 개발속도는 모두 다르기 때문에 뒤에 있는 기능이 앞에 있는 기능보다 먼저 개발될 수 있고, 이때 뒤에 있는 기능은 앞에 있는 기능이 배포될 때 함께 배포됩니다.\n",
        "\n",
        "- 먼저 배포되어야 하는 순서대로 작업의 진도가 적힌 정수 배열 progresses와 각 작업의 개발 속도가 적힌 정수 배열 speeds가 주어질 때 각 배포마다 몇 개의 기능이 배포되는지를 return 하도록 solution 함수를 완성하세요."
      ],
      "metadata": {
        "id": "khOFEjrj0-fy"
      }
    },
    {
      "cell_type": "markdown",
      "source": [
        "## 제한사항"
      ],
      "metadata": {
        "id": "iwzyIdgR0-h6"
      }
    },
    {
      "cell_type": "markdown",
      "source": [
        "- 작업의 개수(progresses, speeds배열의 길이)는 100개 이하입니다.\n",
        "- 작업 진도는 100 미만의 자연수입니다.\n",
        "- 작업 속도는 100 이하의 자연수입니다.\n",
        "- 배포는 하루에 한 번만 할 수 있으며, 하루의 끝에 이루어진다고 가정합니다. 예를 들어 진도율이 95%인 작업의 개발 속도가 하루에 4%라면 배포는 2일 뒤에 이루어집니다."
      ],
      "metadata": {
        "id": "1wMfMkbw0-j9"
      }
    },
    {
      "cell_type": "markdown",
      "source": [
        "# 입출력 예\n",
        "```\n",
        "progresses\t                speeds\t            return\n",
        "[93, 30, 55]\t            [1, 30, 5]\t        [2, 1]\n",
        "[95, 90, 99, 99, 80, 99]\t[1, 1, 1, 1, 1, 1]\t[1, 3, 2]\n",
        "```"
      ],
      "metadata": {
        "id": "8-qr91bZ1X6P"
      }
    },
    {
      "cell_type": "markdown",
      "source": [
        "## 접근방법"
      ],
      "metadata": {
        "id": "l89_xjqX1X4K"
      }
    },
    {
      "cell_type": "markdown",
      "source": [
        "- progresses에 speeds를 더해줘야 된다.\n",
        "- 100 이 넘으면 앞에를 제거해야된다\n",
        "    - 이때 speeds도 제거해 줘야 에러 없음\n",
        "- 제거 한 갯수 만큼 answer 리스트에 담아준다."
      ],
      "metadata": {
        "id": "buD1Jd4_1X19"
      }
    },
    {
      "cell_type": "markdown",
      "source": [
        "## 손코딩"
      ],
      "metadata": {
        "id": "aeEWqg8M1Vx_"
      }
    },
    {
      "cell_type": "markdown",
      "source": [
        "```\n",
        "while prog 길이 :\n",
        "    cnt = 0\n",
        "    prog += speeds\n",
        "    while progre[0] >= 100:\n",
        "        progress.pop(0)\n",
        "        speeds.pop(0)\n",
        "        answer.append(cnt)\n",
        "```"
      ],
      "metadata": {
        "id": "lzg9IaKj1VwH"
      }
    },
    {
      "cell_type": "markdown",
      "source": [
        "## 1차시"
      ],
      "metadata": {
        "id": "hU3bDcmM1Vt4"
      }
    },
    {
      "cell_type": "code",
      "source": [
        "def solution(progresses, speeds):\n",
        "    answer = []\n",
        "    while len(progresses):\n",
        "        cnt = 0\n",
        "        progresses[i] += speeds[i]\n",
        "        while progresses[0] >= 100:\n",
        "            cnt += 1\n",
        "            progresses.pop(0)\n",
        "            speeds.pop(0)\n",
        "            answer.append(cnt)\n",
        "    return answer"
      ],
      "metadata": {
        "id": "fjqj4lyq2eSA"
      },
      "execution_count": 7,
      "outputs": []
    },
    {
      "cell_type": "markdown",
      "source": [
        "- 넘파이랑 착각을 하여서 무한 while문이 되어 버려 결과값이 안나온다.\n",
        "- 리스트와 리스트를 더하면 연결이 된다. [1, 2, 3] + [4, 5, 6] = [1, 2, 3, 4, 5, 6]\n",
        "- for 문을 사용해 한숫자 한숫자 더해줬다.\n"
      ],
      "metadata": {
        "id": "HFsMTP_q2l0t"
      }
    },
    {
      "cell_type": "markdown",
      "source": [
        "## 2차시"
      ],
      "metadata": {
        "id": "o0Rz_4JU28C6"
      }
    },
    {
      "cell_type": "code",
      "source": [
        "def solution(progresses, speeds):\n",
        "    answer = []\n",
        "    while len(progresses):\n",
        "        cnt = 0\n",
        "        for i in range(len(progresses)):\n",
        "            progresses[i] += speeds[i]\n",
        "        while progresses[0] >= 100:\n",
        "            cnt += 1\n",
        "            progresses.pop(0)\n",
        "            speeds.pop(0)\n",
        "            answer.append(cnt)\n",
        "    return answer"
      ],
      "metadata": {
        "id": "9sO3EEbq26nZ"
      },
      "execution_count": 8,
      "outputs": []
    },
    {
      "cell_type": "markdown",
      "source": [
        "- 숫자가 정해져서 두번째 while문으로 접근은 하였다.\n",
        "- out of index가 나왔다.\n",
        "- 이유는 두번째 반복문을 할때 마지막 progresses[0]을 pop해 버리면 안에 아무것도 없는데 거기에 인덱스를 넣어주니 오류가 나는것이다.\n",
        "- and를 사용해 progresses의 길이가 1보다 크거나 같을때의 조건을 추가해 줬다.\n",
        "\n",
        "---\n",
        "\n"
      ],
      "metadata": {
        "id": "w2zuyaFq3JhL"
      }
    },
    {
      "cell_type": "code",
      "source": [
        "solution([93, 30, 55],[1, 30, 5])"
      ],
      "metadata": {
        "colab": {
          "base_uri": "https://localhost:8080/",
          "height": 303
        },
        "id": "xi1TAalu5QK2",
        "outputId": "db247cbc-8ee7-4888-e899-696bc9ca69c0"
      },
      "execution_count": 9,
      "outputs": [
        {
          "output_type": "error",
          "ename": "IndexError",
          "evalue": "ignored",
          "traceback": [
            "\u001b[0;31m---------------------------------------------------------------------------\u001b[0m",
            "\u001b[0;31mIndexError\u001b[0m                                Traceback (most recent call last)",
            "\u001b[0;32m<ipython-input-9-709d9ba0d7be>\u001b[0m in \u001b[0;36m<module>\u001b[0;34m()\u001b[0m\n\u001b[0;32m----> 1\u001b[0;31m \u001b[0msolution\u001b[0m\u001b[0;34m(\u001b[0m\u001b[0;34m[\u001b[0m\u001b[0;36m93\u001b[0m\u001b[0;34m,\u001b[0m \u001b[0;36m30\u001b[0m\u001b[0;34m,\u001b[0m \u001b[0;36m55\u001b[0m\u001b[0;34m]\u001b[0m\u001b[0;34m,\u001b[0m\u001b[0;34m[\u001b[0m\u001b[0;36m1\u001b[0m\u001b[0;34m,\u001b[0m \u001b[0;36m30\u001b[0m\u001b[0;34m,\u001b[0m \u001b[0;36m5\u001b[0m\u001b[0;34m]\u001b[0m\u001b[0;34m)\u001b[0m\u001b[0;34m\u001b[0m\u001b[0;34m\u001b[0m\u001b[0m\n\u001b[0m",
            "\u001b[0;32m<ipython-input-8-16b7979bb066>\u001b[0m in \u001b[0;36msolution\u001b[0;34m(progresses, speeds)\u001b[0m\n\u001b[1;32m      5\u001b[0m         \u001b[0;32mfor\u001b[0m \u001b[0mi\u001b[0m \u001b[0;32min\u001b[0m \u001b[0mrange\u001b[0m\u001b[0;34m(\u001b[0m\u001b[0mlen\u001b[0m\u001b[0;34m(\u001b[0m\u001b[0mprogresses\u001b[0m\u001b[0;34m)\u001b[0m\u001b[0;34m)\u001b[0m\u001b[0;34m:\u001b[0m\u001b[0;34m\u001b[0m\u001b[0;34m\u001b[0m\u001b[0m\n\u001b[1;32m      6\u001b[0m             \u001b[0mprogresses\u001b[0m\u001b[0;34m[\u001b[0m\u001b[0mi\u001b[0m\u001b[0;34m]\u001b[0m \u001b[0;34m+=\u001b[0m \u001b[0mspeeds\u001b[0m\u001b[0;34m[\u001b[0m\u001b[0mi\u001b[0m\u001b[0;34m]\u001b[0m\u001b[0;34m\u001b[0m\u001b[0;34m\u001b[0m\u001b[0m\n\u001b[0;32m----> 7\u001b[0;31m         \u001b[0;32mwhile\u001b[0m \u001b[0mprogresses\u001b[0m\u001b[0;34m[\u001b[0m\u001b[0;36m0\u001b[0m\u001b[0;34m]\u001b[0m \u001b[0;34m>=\u001b[0m \u001b[0;36m100\u001b[0m\u001b[0;34m:\u001b[0m\u001b[0;34m\u001b[0m\u001b[0;34m\u001b[0m\u001b[0m\n\u001b[0m\u001b[1;32m      8\u001b[0m             \u001b[0mcnt\u001b[0m \u001b[0;34m+=\u001b[0m \u001b[0;36m1\u001b[0m\u001b[0;34m\u001b[0m\u001b[0;34m\u001b[0m\u001b[0m\n\u001b[1;32m      9\u001b[0m             \u001b[0mprogresses\u001b[0m\u001b[0;34m.\u001b[0m\u001b[0mpop\u001b[0m\u001b[0;34m(\u001b[0m\u001b[0;36m0\u001b[0m\u001b[0;34m)\u001b[0m\u001b[0;34m\u001b[0m\u001b[0;34m\u001b[0m\u001b[0m\n",
            "\u001b[0;31mIndexError\u001b[0m: list index out of range"
          ]
        }
      ]
    },
    {
      "cell_type": "markdown",
      "source": [
        "## 3차시"
      ],
      "metadata": {
        "id": "-30PIwpn4AEs"
      }
    },
    {
      "cell_type": "code",
      "source": [
        "def solution(progresses, speeds):\n",
        "    answer = []\n",
        "    while len(progresses):\n",
        "        cnt = 0\n",
        "        for i in range(len(progresses)):\n",
        "            progresses[i] += speeds[i]\n",
        "        while len(progresses)>=1 and progresses[0] >= 100:\n",
        "            cnt += 1\n",
        "            progresses.pop(0)\n",
        "            speeds.pop(0)\n",
        "            answer.append(cnt)\n",
        "    return answer"
      ],
      "metadata": {
        "id": "NAkRz5G236jQ"
      },
      "execution_count": 10,
      "outputs": []
    },
    {
      "cell_type": "code",
      "source": [
        "solution([93, 30, 55],[1, 30, 5])"
      ],
      "metadata": {
        "colab": {
          "base_uri": "https://localhost:8080/"
        },
        "id": "Fs3ec8mg5UJT",
        "outputId": "930ec779-fdaf-4358-8e80-2d33f1e44f5f"
      },
      "execution_count": 11,
      "outputs": [
        {
          "output_type": "execute_result",
          "data": {
            "text/plain": [
              "[1, 2, 1]"
            ]
          },
          "metadata": {},
          "execution_count": 11
        }
      ]
    },
    {
      "cell_type": "markdown",
      "source": [
        "- 결과 값이 나온다.\n",
        "- 하지만 원하는 return 값이 아니라 while 문에서 cnt를 모두다 append를 해주는 것이다.\n",
        "- 두번째 while문에 append를 밖에다 꺼내 놓고 두번째 while문이 종료 되면 append 해주는 방법으로 해보았다."
      ],
      "metadata": {
        "id": "mjiWq2Wz3HIw"
      }
    },
    {
      "cell_type": "markdown",
      "source": [
        "## 4차시"
      ],
      "metadata": {
        "id": "Hfgo3TxR4d-V"
      }
    },
    {
      "cell_type": "code",
      "source": [
        "def solution(progresses, speeds):\n",
        "    answer = []\n",
        "    while len(progresses):\n",
        "        cnt = 0\n",
        "        for i in range(len(progresses)):\n",
        "            progresses[i] += speeds[i]\n",
        "        while len(progresses)>=1 and progresses[0] >= 100:\n",
        "            cnt += 1\n",
        "            progresses.pop(0)\n",
        "            speeds.pop(0)\n",
        "        answer.append(cnt)\n",
        "    return answer"
      ],
      "metadata": {
        "id": "WmKsFrLi4gVX"
      },
      "execution_count": 12,
      "outputs": []
    },
    {
      "cell_type": "code",
      "source": [
        "solution([93, 30, 55],[1, 30, 5])"
      ],
      "metadata": {
        "colab": {
          "base_uri": "https://localhost:8080/"
        },
        "id": "Mci5Kgdb5a5a",
        "outputId": "ca53e011-5adf-49bc-fa48-dea32b054c6d"
      },
      "execution_count": 13,
      "outputs": [
        {
          "output_type": "execute_result",
          "data": {
            "text/plain": [
              "[0, 0, 0, 0, 0, 0, 2, 0, 1]"
            ]
          },
          "metadata": {},
          "execution_count": 13
        }
      ]
    },
    {
      "cell_type": "markdown",
      "source": [
        "- 이제는 모든 cnt 값이 넣어진다.\n",
        "- cnt가 출력 되기 위해서는 무조건 1이상 이다.\n",
        "- 밖에 꺼낸 append 안에 조건문을 추가하였다.\n",
        "- cnt가 0보다 크면 append를 한다."
      ],
      "metadata": {
        "id": "mHvz6Jfd4gPZ"
      }
    },
    {
      "cell_type": "markdown",
      "source": [
        "## 결과물"
      ],
      "metadata": {
        "id": "t0Ve5O6M5C_N"
      }
    },
    {
      "cell_type": "code",
      "execution_count": 5,
      "metadata": {
        "id": "WUNwLWqv06hc"
      },
      "outputs": [],
      "source": [
        "def solution(progresses, speeds):\n",
        "    answer = []\n",
        "    while len(progresses):\n",
        "        cnt = 0\n",
        "        for i in range(len(progresses)):\n",
        "            progresses[i] += speeds[i]\n",
        "        while len(progresses)>=1 and progresses[0] >= 100:\n",
        "            cnt += 1\n",
        "            progresses.pop(0)\n",
        "            speeds.pop(0)\n",
        "        if cnt > 0:\n",
        "            answer.append(cnt)\n",
        "    return answer"
      ]
    },
    {
      "cell_type": "code",
      "source": [
        "solution([93, 30, 55],[1, 30, 5])"
      ],
      "metadata": {
        "colab": {
          "base_uri": "https://localhost:8080/"
        },
        "id": "KPESmXHg3VfF",
        "outputId": "3d87884c-fe84-41e9-bb29-be5f7d2484c3"
      },
      "execution_count": 6,
      "outputs": [
        {
          "output_type": "execute_result",
          "data": {
            "text/plain": [
              "[2, 1]"
            ]
          },
          "metadata": {},
          "execution_count": 6
        }
      ]
    }
  ]
}