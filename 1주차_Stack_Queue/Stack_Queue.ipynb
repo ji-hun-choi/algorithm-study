{
  "nbformat": 4,
  "nbformat_minor": 0,
  "metadata": {
    "colab": {
      "name": "Stack_Queue.ipynb",
      "provenance": [],
      "authorship_tag": "ABX9TyO9vhNAsPjpaApZFP7Dwn3A",
      "include_colab_link": true
    },
    "kernelspec": {
      "name": "python3",
      "display_name": "Python 3"
    },
    "language_info": {
      "name": "python"
    }
  },
  "cells": [
    {
      "cell_type": "markdown",
      "metadata": {
        "id": "view-in-github",
        "colab_type": "text"
      },
      "source": [
        "<a href=\"https://colab.research.google.com/github/ji-hun-choi/algorithm-study/blob/main/1%EC%A3%BC%EC%B0%A8_Stack_Queue/Stack_Queue.ipynb\" target=\"_parent\"><img src=\"https://colab.research.google.com/assets/colab-badge.svg\" alt=\"Open In Colab\"/></a>"
      ]
    },
    {
      "cell_type": "markdown",
      "source": [
        "# 1주차 알고리즘"
      ],
      "metadata": {
        "id": "na0itZns0lBX"
      }
    },
    {
      "cell_type": "markdown",
      "source": [
        "## 스택"
      ],
      "metadata": {
        "id": "HEccwE710rFN"
      }
    },
    {
      "cell_type": "markdown",
      "source": [
        "- 쌓다 라는 의미\n",
        "- 프로그램에서는 리스트에서 접근이 한쪽만 가능\n",
        "- 대표 적으로\n",
        "    - push : 쌓다.\n",
        "    - peek : 보다.\n",
        "    - pop  : 빼다."
      ],
      "metadata": {
        "id": "L0zqB7qq0s4v"
      }
    },
    {
      "cell_type": "markdown",
      "source": [
        "### 구현 방법"
      ],
      "metadata": {
        "id": "CCyIEr7g1KGe"
      }
    },
    {
      "cell_type": "markdown",
      "source": [
        "1. python 직접 구현\n",
        "\n",
        " - push : append와 기능이 같아서 이용\n",
        "\n",
        " - peek : 현재 가지고 있는 list의 마지막을 보여줌"
      ],
      "metadata": {
        "id": "GUT8fI_81Mgn"
      }
    },
    {
      "cell_type": "code",
      "source": [
        "class Stack(list):\n",
        "    push = list.append\n",
        "\n",
        "    def peek(self):\n",
        "        return self[-1]"
      ],
      "metadata": {
        "id": "YZUyfJAl1Oex"
      },
      "execution_count": 1,
      "outputs": []
    },
    {
      "cell_type": "code",
      "source": [
        "s = Stack()"
      ],
      "metadata": {
        "id": "49av1Suh1vKx"
      },
      "execution_count": 2,
      "outputs": []
    },
    {
      "cell_type": "code",
      "source": [
        "s.push(1)\n",
        "s.push(2)\n",
        "s.push(3)"
      ],
      "metadata": {
        "id": "GssFbafe1yBg"
      },
      "execution_count": 3,
      "outputs": []
    },
    {
      "cell_type": "code",
      "source": [
        "s.peek()"
      ],
      "metadata": {
        "colab": {
          "base_uri": "https://localhost:8080/"
        },
        "id": "ZutrCcW613gQ",
        "outputId": "0932ed7e-d628-49ee-d4ee-ed9c547e0e5f"
      },
      "execution_count": 4,
      "outputs": [
        {
          "output_type": "execute_result",
          "data": {
            "text/plain": [
              "3"
            ]
          },
          "metadata": {},
          "execution_count": 4
        }
      ]
    },
    {
      "cell_type": "code",
      "source": [
        "s.pop()"
      ],
      "metadata": {
        "colab": {
          "base_uri": "https://localhost:8080/"
        },
        "id": "58fLLQXS15Yw",
        "outputId": "c2781b35-e244-4a5c-f880-da4b3200a391"
      },
      "execution_count": 5,
      "outputs": [
        {
          "output_type": "execute_result",
          "data": {
            "text/plain": [
              "3"
            ]
          },
          "metadata": {},
          "execution_count": 5
        }
      ]
    },
    {
      "cell_type": "code",
      "source": [
        "s.peek()"
      ],
      "metadata": {
        "colab": {
          "base_uri": "https://localhost:8080/"
        },
        "id": "xuTr12v316rn",
        "outputId": "03e22327-7bcf-4080-ef1e-3c69f2d9e97d"
      },
      "execution_count": 6,
      "outputs": [
        {
          "output_type": "execute_result",
          "data": {
            "text/plain": [
              "2"
            ]
          },
          "metadata": {},
          "execution_count": 6
        }
      ]
    },
    {
      "cell_type": "markdown",
      "source": [
        "2. python list를 스택으로 활용"
      ],
      "metadata": {
        "id": "gt1ruxvG18An"
      }
    },
    {
      "cell_type": "code",
      "source": [
        "s = []\n",
        "s.append(1)\n",
        "s.append(5)\n",
        "s.append(10)\n",
        "s"
      ],
      "metadata": {
        "colab": {
          "base_uri": "https://localhost:8080/"
        },
        "id": "hNcQMowe2A4p",
        "outputId": "2dce66b2-c51d-4460-ce2c-f0318c28c445"
      },
      "execution_count": 8,
      "outputs": [
        {
          "output_type": "execute_result",
          "data": {
            "text/plain": [
              "[1, 5, 10]"
            ]
          },
          "metadata": {},
          "execution_count": 8
        }
      ]
    },
    {
      "cell_type": "code",
      "source": [
        "s.pop() "
      ],
      "metadata": {
        "colab": {
          "base_uri": "https://localhost:8080/"
        },
        "id": "DOsuv0ij2LTo",
        "outputId": "e55ed561-802c-4658-aeec-6e2e85939197"
      },
      "execution_count": 9,
      "outputs": [
        {
          "output_type": "execute_result",
          "data": {
            "text/plain": [
              "10"
            ]
          },
          "metadata": {},
          "execution_count": 9
        }
      ]
    },
    {
      "cell_type": "code",
      "source": [
        "s[-1]"
      ],
      "metadata": {
        "colab": {
          "base_uri": "https://localhost:8080/"
        },
        "id": "wrKziHwa2Mxo",
        "outputId": "414b8bd8-b576-4a40-dcc4-a0e610bf6451"
      },
      "execution_count": 10,
      "outputs": [
        {
          "output_type": "execute_result",
          "data": {
            "text/plain": [
              "5"
            ]
          },
          "metadata": {},
          "execution_count": 10
        }
      ]
    },
    {
      "cell_type": "markdown",
      "source": [
        "## 큐"
      ],
      "metadata": {
        "id": "CnAVZoYp2RO4"
      }
    },
    {
      "cell_type": "markdown",
      "source": [
        "- 일이 처리되기를 기다리는 리스트\n",
        "- 양쪽에서 접근 가능한 구조\n",
        "- FIFO가 기본원리\n",
        "- 대표적으로\n",
        "    - put  : 처음부터 차례대로 데이터 넣음\n",
        "    - peek : 가장 먼저 데이터를 확인\n",
        "    - get  : 제일 처음 데이터를 가져옴\n",
        "\n"
      ],
      "metadata": {
        "id": "bnLFtABt2abg"
      }
    },
    {
      "cell_type": "markdown",
      "source": [
        "### 구현 방법"
      ],
      "metadata": {
        "id": "0cs8wRV32iBx"
      }
    },
    {
      "cell_type": "markdown",
      "source": [
        "1. 직접 구현"
      ],
      "metadata": {
        "id": "FMkYSzDD3C6-"
      }
    },
    {
      "cell_type": "code",
      "source": [
        "class Queue(list):\n",
        "    put = list.append\n",
        "\n",
        "    def peek(self):\n",
        "        return self[0]\n",
        "    \n",
        "    def get(self):\n",
        "        return self.pop(0)"
      ],
      "metadata": {
        "id": "VG7dbw7u3EMB"
      },
      "execution_count": 11,
      "outputs": []
    },
    {
      "cell_type": "code",
      "source": [
        "q = Queue()"
      ],
      "metadata": {
        "id": "DrcOVe-u3V9e"
      },
      "execution_count": 12,
      "outputs": []
    },
    {
      "cell_type": "code",
      "source": [
        "q.put(1)\n",
        "q.put(5)\n",
        "q.put(10)"
      ],
      "metadata": {
        "id": "FxOIBYUM3YoA"
      },
      "execution_count": 13,
      "outputs": []
    },
    {
      "cell_type": "code",
      "source": [
        "q.peek()"
      ],
      "metadata": {
        "colab": {
          "base_uri": "https://localhost:8080/"
        },
        "id": "JAGS8iR43cew",
        "outputId": "7f5ff966-4075-46d7-ac72-8a10c3714bde"
      },
      "execution_count": 14,
      "outputs": [
        {
          "output_type": "execute_result",
          "data": {
            "text/plain": [
              "1"
            ]
          },
          "metadata": {},
          "execution_count": 14
        }
      ]
    },
    {
      "cell_type": "code",
      "source": [
        "q.get()"
      ],
      "metadata": {
        "colab": {
          "base_uri": "https://localhost:8080/"
        },
        "id": "9Mi0L0w53eKY",
        "outputId": "3291763a-e69d-4291-ad5e-556fd442cdb7"
      },
      "execution_count": 15,
      "outputs": [
        {
          "output_type": "execute_result",
          "data": {
            "text/plain": [
              "1"
            ]
          },
          "metadata": {},
          "execution_count": 15
        }
      ]
    },
    {
      "cell_type": "code",
      "source": [
        "q.peek()"
      ],
      "metadata": {
        "colab": {
          "base_uri": "https://localhost:8080/"
        },
        "id": "t7KshLST3fuo",
        "outputId": "9241208e-25b0-4fc1-bde7-535a7ae80812"
      },
      "execution_count": 16,
      "outputs": [
        {
          "output_type": "execute_result",
          "data": {
            "text/plain": [
              "5"
            ]
          },
          "metadata": {},
          "execution_count": 16
        }
      ]
    },
    {
      "cell_type": "markdown",
      "source": [
        "2. 클래스 import\n",
        "- from queue import Queue 를 받아와 시도\n",
        "- peek() 에서 오류."
      ],
      "metadata": {
        "id": "8BcD3cve3hWg"
      }
    },
    {
      "cell_type": "code",
      "source": [
        "from queue import Queue\n",
        "q = Queue()"
      ],
      "metadata": {
        "id": "DtwdM2ry3vCw"
      },
      "execution_count": 17,
      "outputs": []
    },
    {
      "cell_type": "code",
      "source": [
        "q.put(1)\n",
        "q.put(5)\n",
        "q.put(10)"
      ],
      "metadata": {
        "id": "rd8FBInA30LB"
      },
      "execution_count": 27,
      "outputs": []
    },
    {
      "cell_type": "code",
      "source": [
        "q"
      ],
      "metadata": {
        "colab": {
          "base_uri": "https://localhost:8080/"
        },
        "id": "ipuGY65-34Qw",
        "outputId": "a0dc441e-19d3-46f5-e065-7041374ba61c"
      },
      "execution_count": 19,
      "outputs": [
        {
          "output_type": "execute_result",
          "data": {
            "text/plain": [
              "<queue.Queue at 0x7feb659a12d0>"
            ]
          },
          "metadata": {},
          "execution_count": 19
        }
      ]
    },
    {
      "cell_type": "code",
      "source": [
        "q.get()"
      ],
      "metadata": {
        "colab": {
          "base_uri": "https://localhost:8080/"
        },
        "id": "whaIPAJJ35Yo",
        "outputId": "cbfe7923-f1ea-4c1a-9cd9-46e8d6413f7f"
      },
      "execution_count": 28,
      "outputs": [
        {
          "output_type": "execute_result",
          "data": {
            "text/plain": [
              "1"
            ]
          },
          "metadata": {},
          "execution_count": 28
        }
      ]
    },
    {
      "cell_type": "code",
      "source": [
        "q.peek()"
      ],
      "metadata": {
        "colab": {
          "base_uri": "https://localhost:8080/",
          "height": 174
        },
        "id": "AxepTDw8371Q",
        "outputId": "738c2065-3367-4c19-81d5-d4a1af28d297"
      },
      "execution_count": 30,
      "outputs": [
        {
          "output_type": "error",
          "ename": "AttributeError",
          "evalue": "ignored",
          "traceback": [
            "\u001b[0;31m---------------------------------------------------------------------------\u001b[0m",
            "\u001b[0;31mAttributeError\u001b[0m                            Traceback (most recent call last)",
            "\u001b[0;32m<ipython-input-30-f25c49a05841>\u001b[0m in \u001b[0;36m<module>\u001b[0;34m()\u001b[0m\n\u001b[0;32m----> 1\u001b[0;31m \u001b[0mq\u001b[0m\u001b[0;34m.\u001b[0m\u001b[0mpeek\u001b[0m\u001b[0;34m(\u001b[0m\u001b[0;34m)\u001b[0m\u001b[0;34m\u001b[0m\u001b[0;34m\u001b[0m\u001b[0m\n\u001b[0m",
            "\u001b[0;31mAttributeError\u001b[0m: 'Queue' object has no attribute 'peek'"
          ]
        }
      ]
    },
    {
      "cell_type": "markdown",
      "source": [
        "3. list 를 큐로 활용\n",
        "- append : 리스트에 숫자 입력= put\n",
        "- pop(0) : 첫번째 인덱스 가져오기\n",
        "- q[0]   : 첫번째 인덱스 조회 = peek()"
      ],
      "metadata": {
        "id": "-JDaURFX5vjR"
      }
    },
    {
      "cell_type": "code",
      "source": [
        "q = []"
      ],
      "metadata": {
        "id": "LDy1Ue7a6ZqK"
      },
      "execution_count": 31,
      "outputs": []
    },
    {
      "cell_type": "code",
      "source": [
        "q.append(1)\n",
        "q.append(5)\n",
        "q.append(10)"
      ],
      "metadata": {
        "id": "k1OxwH7p6bap"
      },
      "execution_count": 32,
      "outputs": []
    },
    {
      "cell_type": "code",
      "source": [
        "q.pop(0)"
      ],
      "metadata": {
        "colab": {
          "base_uri": "https://localhost:8080/"
        },
        "id": "sW_DS0wK6etp",
        "outputId": "54501dfe-97b4-463b-d463-4dd22d244b50"
      },
      "execution_count": 33,
      "outputs": [
        {
          "output_type": "execute_result",
          "data": {
            "text/plain": [
              "1"
            ]
          },
          "metadata": {},
          "execution_count": 33
        }
      ]
    },
    {
      "cell_type": "code",
      "source": [
        "q[0]"
      ],
      "metadata": {
        "colab": {
          "base_uri": "https://localhost:8080/"
        },
        "id": "kb4kiONF6jCR",
        "outputId": "38ccf965-8966-4626-9988-e78853625e03"
      },
      "execution_count": 34,
      "outputs": [
        {
          "output_type": "execute_result",
          "data": {
            "text/plain": [
              "5"
            ]
          },
          "metadata": {},
          "execution_count": 34
        }
      ]
    },
    {
      "cell_type": "code",
      "source": [
        "prices = [1, 2, 3, 2, 3]"
      ],
      "metadata": {
        "id": "rlp6ClWa6kQh"
      },
      "execution_count": 35,
      "outputs": []
    },
    {
      "cell_type": "code",
      "source": [
        "prices.index(3)"
      ],
      "metadata": {
        "colab": {
          "base_uri": "https://localhost:8080/"
        },
        "id": "UmN2ce83HlQ_",
        "outputId": "2502f6d5-ed6a-4414-b3d9-d5704a04defc"
      },
      "execution_count": 36,
      "outputs": [
        {
          "output_type": "execute_result",
          "data": {
            "text/plain": [
              "2"
            ]
          },
          "metadata": {},
          "execution_count": 36
        }
      ]
    },
    {
      "cell_type": "code",
      "source": [
        "enumerate"
      ],
      "metadata": {
        "id": "IwyGgNuTHoqe"
      },
      "execution_count": null,
      "outputs": []
    }
  ]
}